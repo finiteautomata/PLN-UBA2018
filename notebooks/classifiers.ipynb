{
 "cells": [
  {
   "cell_type": "markdown",
   "metadata": {},
   "source": [
    "## Clasificadores"
   ]
  },
  {
   "cell_type": "code",
   "execution_count": 1,
   "metadata": {},
   "outputs": [],
   "source": [
    "%matplotlib inline"
   ]
  },
  {
   "cell_type": "code",
   "execution_count": 3,
   "metadata": {},
   "outputs": [],
   "source": [
    "from sentiment.tass import InterTASSReader, GeneralTASSReader\n",
    "from sentiment.baselines import MostFrequent\n",
    "from sentiment.classifier import SentimentClassifier\n",
    "from sentiment.evaluator import Evaluator\n",
    "\n",
    "def print_evaluation(model, y_cv, y_pred):\n",
    "    # evaluate and print\n",
    "    evaluator = Evaluator()\n",
    "    evaluator.evaluate(y_cv, y_pred)\n",
    "    evaluator.print_results()\n",
    "    evaluator.print_confusion_matrix()\n",
    "\n",
    "    # detailed confusion matrix, for result analysis\n",
    "    cm_items = defaultdict(list)\n",
    "    for i, (true, pred) in enumerate(zip(y_cv, y_pred)):\n",
    "        cm_items[true, pred] += [i]\n",
    "\n",
    "def learning_curve(model, X, y, X_cv, y_cv): \n",
    "    \"\"\"\n",
    "    Learning Curve of the model\n",
    "    \n",
    "    Returns ns, acc_curve, f1_curve\n",
    "    \"\"\"\n",
    "    N = len(X)\n",
    "    acc_curve = []\n",
    "    evaluator = Evaluator()\n",
    "    f1_curve = []\n",
    "    ns = []\n",
    "    for i in reversed(range(8)):\n",
    "        n = int(N / 2**i)\n",
    "        this_X = X[:n]\n",
    "        this_y = y[:n]\n",
    "\n",
    "        # train, test and evaluate\n",
    "        model.fit(this_X, this_y)\n",
    "        y_pred = model.predict(X_cv)\n",
    "        evaluator.evaluate(y_cv, y_pred)\n",
    "\n",
    "        # print this data point:\n",
    "        acc = evaluator.accuracy()\n",
    "        f1 = evaluator.macro_f1()\n",
    "        \n",
    "        acc_curve.append(acc)\n",
    "        f1_curve.append(f1)\n",
    "        ns.append(n)\n",
    "    return ns, acc_curve, f1_curve\n",
    "        \n",
    "# load corpora\n",
    "reader1 = InterTASSReader('../data/TASS/InterTASS/tw_faces4tassTrain1000rc.xml')\n",
    "X1, y1 = list(reader1.X()), list(reader1.y())\n",
    "reader2 = GeneralTASSReader('../data/TASS/GeneralTASS/general-tweets-train-tagged.xml', simple=True)\n",
    "X2, y2 = list(reader2.X()), list(reader2.y())\n",
    "X, y = X1 + X2, y1 + y2\n",
    "\n",
    "reader_cv = InterTASSReader('../data/TASS/InterTASS/TASS2017_T1_development.xml')\n",
    "X_cv, y_cv = list(reader_cv.X()), list(reader_cv.y())\n"
   ]
  },
  {
   "cell_type": "markdown",
   "metadata": {},
   "source": [
    "## Sin tokenizador"
   ]
  },
  {
   "cell_type": "code",
   "execution_count": 10,
   "metadata": {
    "scrolled": false
   },
   "outputs": [],
   "source": [
    "import seaborn as sns\n",
    "import matplotlib.pyplot as plt\n",
    "import pandas as pd\n",
    "from sklearn.pipeline import Pipeline\n",
    "from sklearn.feature_extraction.text import CountVectorizer\n",
    "from sklearn.naive_bayes import MultinomialNB\n",
    "from sklearn.svm import LinearSVC\n",
    "from sklearn.linear_model import LogisticRegression\n",
    "from nltk.tokenize import TweetTokenizer\n",
    "from collections import defaultdict\n",
    "\n",
    "\n",
    "clf_classes = [\n",
    "    ('MaxEnt', LogisticRegression), \n",
    "    ('MNB', MultinomialNB), \n",
    "    ('SVM', LinearSVC)\n",
    "]\n",
    "\n",
    "\n",
    "def do_full_analysis(base_steps, full_name):\n",
    "    sns.set_style(\"darkgrid\")\n",
    "\n",
    "    acc_curves = {}\n",
    "    f1_curves = {}\n",
    "\n",
    "\n",
    "    for name, clf_class in clf_classes:\n",
    "        print(\"=\" * 80)\n",
    "        print(name)\n",
    "        model = Pipeline([\n",
    "            ('vect', CountVectorizer()),\n",
    "            ('clf', clf_class()),\n",
    "        ])\n",
    "\n",
    "        model.fit(X, y)\n",
    "\n",
    "        y_pred = model.predict(X_cv)\n",
    "        print_evaluation(model, y_cv, y_pred)\n",
    "\n",
    "        ns, acc_curve, f1_curve = learning_curve(model, X, y, X_cv, y_cv)\n",
    "        acc_curves[name] = acc_curve\n",
    "        f1_curves[name] = f1_curve\n",
    "\n",
    "    ax1 = pd.DataFrame(acc_curves, index=ns).plot(title=\"{} Accuracy Learning Curves\".format(full_name))\n",
    "    plt.savefig(\"images/{}_acc.png\".format(full_name))\n",
    "    ax2 = pd.DataFrame(f1_curves, index=ns).plot(title=\"{} F1 Learning Curves\".format(full_name))\n",
    "    plt.savefig(\"images/{}_f1.png\".format(full_name))\n",
    "    "
   ]
  },
  {
   "cell_type": "code",
   "execution_count": 11,
   "metadata": {
    "scrolled": false
   },
   "outputs": [
    {
     "name": "stdout",
     "output_type": "stream",
     "text": [
      "================================================================================\n",
      "MaxEnt\n",
      "Sentiment P:\n",
      "  Precision: 52.89% (119/225)\n",
      "  Recall: 76.28% (119/156)\n",
      "  F1: 62.47%\n",
      "Sentiment N:\n",
      "  Precision: 60.65% (131/216)\n",
      "  Recall: 59.82% (131/219)\n",
      "  F1: 60.23%\n",
      "Sentiment NEU:\n",
      "  Precision: 15.79% (3/19)\n",
      "  Recall: 4.35% (3/69)\n",
      "  F1: 6.82%\n",
      "Sentiment NONE:\n",
      "  Precision: 28.26% (13/46)\n",
      "  Recall: 20.97% (13/62)\n",
      "  F1: 24.07%\n",
      "Accuracy: 52.57% (266/506)\n",
      "Macro-Precision: 39.40%\n",
      "Macro-Recall: 40.35%\n",
      "Macro-F1: 39.87%\n",
      "\tP\tN\tNEU\tNONE\n",
      "P\t119\t27\t5\t5\t\n",
      "N\t60\t131\t7\t21\t\n",
      "NEU\t30\t29\t3\t7\t\n",
      "NONE\t16\t29\t4\t13\t\n",
      "================================================================================\n",
      "MNB\n",
      "Sentiment P:\n",
      "  Precision: 49.22% (127/258)\n",
      "  Recall: 81.41% (127/156)\n",
      "  F1: 61.35%\n",
      "Sentiment N:\n",
      "  Precision: 58.61% (143/244)\n",
      "  Recall: 65.30% (143/219)\n",
      "  F1: 61.77%\n",
      "Sentiment NEU:\n",
      "  Precision: 0.00% (0/1)\n",
      "  Recall: 0.00% (0/69)\n",
      "  F1: 0.00%\n",
      "Sentiment NONE:\n",
      "  Precision: 66.67% (2/3)\n",
      "  Recall: 3.23% (2/62)\n",
      "  F1: 6.15%\n",
      "Accuracy: 53.75% (272/506)\n",
      "Macro-Precision: 43.62%\n",
      "Macro-Recall: 37.48%\n",
      "Macro-F1: 40.32%\n",
      "\tP\tN\tNEU\tNONE\n",
      "P\t127\t28\t1\t0\t\n",
      "N\t75\t143\t0\t1\t\n",
      "NEU\t35\t34\t0\t0\t\n",
      "NONE\t21\t39\t0\t2\t\n",
      "================================================================================\n",
      "SVM\n",
      "Sentiment P:\n",
      "  Precision: 54.74% (104/190)\n",
      "  Recall: 66.67% (104/156)\n",
      "  F1: 60.12%\n",
      "Sentiment N:\n",
      "  Precision: 62.69% (126/201)\n",
      "  Recall: 57.53% (126/219)\n",
      "  F1: 60.00%\n",
      "Sentiment NEU:\n",
      "  Precision: 13.89% (5/36)\n",
      "  Recall: 7.25% (5/69)\n",
      "  F1: 9.52%\n",
      "Sentiment NONE:\n",
      "  Precision: 25.32% (20/79)\n",
      "  Recall: 32.26% (20/62)\n",
      "  F1: 28.37%\n",
      "Accuracy: 50.40% (255/506)\n",
      "Macro-Precision: 39.16%\n",
      "Macro-Recall: 40.93%\n",
      "Macro-F1: 40.02%\n",
      "\tP\tN\tNEU\tNONE\n",
      "P\t104\t24\t11\t17\t\n",
      "N\t48\t126\t15\t30\t\n",
      "NEU\t26\t26\t5\t12\t\n",
      "NONE\t12\t25\t5\t20\t\n"
     ]
    },
    {
     "data": {
      "image/png": "[encoded data removed]",
      "text/plain": [
       "<matplotlib.figure.Figure at 0x7ffac3095550>"
      ]
     },
     "metadata": {},
     "output_type": "display_data"
    },
    {
     "data": {
      "image/png": "[encoded data removed]",
      "text/plain": [
       "<matplotlib.figure.Figure at 0x7ffac336bef0>"
      ]
     },
     "metadata": {},
     "output_type": "display_data"
    }
   ],
   "source": [
    "base_steps = [\n",
    "    ('vect', CountVectorizer())\n",
    "]\n",
    "\n",
    "do_full_analysis(base_steps, \"base\")\n"
   ]
  },
  {
   "cell_type": "markdown",
   "metadata": {},
   "source": [
    "## Con Tweet Tokenizer"
   ]
  },
  {
   "cell_type": "code",
   "execution_count": 5,
   "metadata": {},
   "outputs": [
    {
     "name": "stdout",
     "output_type": "stream",
     "text": [
      "Sentiment P:\n",
      "  Precision: 57.80% (437/756)\n",
      "  Recall: 68.07% (437/642)\n",
      "  F1: 62.52%\n",
      "Sentiment N:\n",
      "  Precision: 62.81% (451/718)\n",
      "  Recall: 58.80% (451/767)\n",
      "  F1: 60.74%\n",
      "Sentiment NEU:\n",
      "  Precision: 16.53% (20/121)\n",
      "  Recall: 9.26% (20/216)\n",
      "  F1: 11.87%\n",
      "Sentiment NONE:\n",
      "  Precision: 25.33% (77/304)\n",
      "  Recall: 28.10% (77/274)\n",
      "  F1: 26.64%\n",
      "Accuracy: 51.87% (985/1899)\n",
      "Macro-Precision: 40.62%\n",
      "Macro-Recall: 41.06%\n",
      "Macro-F1: 40.84%\n",
      "\tP\tN\tNEU\tNONE\n",
      "P\t437\t101\t30\t74\t\n",
      "N\t144\t451\t58\t114\t\n",
      "NEU\t73\t84\t20\t39\t\n",
      "NONE\t102\t82\t13\t77\t\n"
     ]
    }
   ],
   "source": [
    "from nltk.tokenize import TweetTokenizer\n",
    "tknzr = TweetTokenizer()\n",
    "model = Pipeline([\n",
    "    ('vect', CountVectorizer(tokenizer=tknzr.tokenize)),\n",
    "    ('clf', clf_class()),\n",
    "])\n",
    "\n",
    "model.fit(X, y)\n",
    "\n",
    "y_pred = model.predict(X_cv)\n",
    "        \n",
    "print_evaluation(model, y_cv, y_pred)"
   ]
  },
  {
   "cell_type": "markdown",
   "metadata": {},
   "source": [
    "## Tokenizador un poco mejor"
   ]
  },
  {
   "cell_type": "code",
   "execution_count": 6,
   "metadata": {},
   "outputs": [],
   "source": [
    "tweets = X[10:50]\n",
    "\n",
    "tweet_with_urls = [tw for tw in X if \"http\" in tw]\n",
    "\n",
    "tweets = tweet_with_urls[:10]"
   ]
  },
  {
   "cell_type": "code",
   "execution_count": 7,
   "metadata": {},
   "outputs": [
    {
     "name": "stdout",
     "output_type": "stream",
     "text": [
      "['Nominada', 'por', '@learamartell', 'Aquí', 'van', 'nuestras', 'pelis', 'y', 'nuestros', 'taggeados', '.', 'https://t.co/hWqxW19Rjr']\n",
      "['@ToniThrowdown', 'ahora', 'tengo', 'un', 'dilema', '.', 'Ayúdame', 'Toni', 'Y', 'en', '3DS', 'porque', 'me', 'salió', 'a', '25', 'euros', 'nuevo', 'https://t.co/2bSRMWnrZ5']\n",
      "['Pocas', 'maneras', 'mejores', 'se', 'me', 'ocurren', 'para', 'empezar', 'una', 'semana', '...', 'https://t.co/P5wOXm5ffl']\n",
      "['Hoy', 'microaventura', 'en', '#kayak', 'con', 'dos', 'expertos', 'kayakistas', 'Ría', 'de', 'Villaviciosa', '.', '@', 'El', 'Puntal', '…', 'https://t.co/y7j88bRmYK']\n",
      "['Quiero', 'esta', 'figura', 'de', 'Madison', 'ojalá', 'que', 'la', 'próxima', 'en', 'salir', 'sea', 'Alicia', 'https://t.co/dTnJsrR8to']\n",
      "['que', 'te', 'echo', 'de', 'menos', 'cosa', 'chicaa', '!', 'https://t.co/9QIk0GIVzO']\n",
      "['Vale', ',', 'pero', 'creo', 'que', 'tendre', 'un', 'pequeño', 'problema', 'No', 'se', 'si', 'podre', 'tener', 'las', 'llaves', 'el', 'piso', 'para', 'las', 'fotos', 'https://t.co/WOvpvT0I7s']\n",
      "['@wilma_lorenzo', 'No', 'dobles', 'las', 'esquinas', '!', '😱', '😱', 'Pon', 'post-its', '!', ',', 'se', 'queda', 'más', 'cuqui', 'https://t.co/DFKQaseaNA']\n",
      "['mi', 'espalda', 'esta', 'bien', 'chicos', 'no', 'os', 'preocupeis', 'P', 'espero', 'que', 'el', 'juicio', 'sea', 'lento', 'y', 'me', 'libre', 'de', 'la', 'carcel', 'https://t.co/TBkC1vIvOO']\n",
      "['Se', 'busca', 'KAORI', 'para', 'el', 'sábado', 'del', 'salón', 'de', 'MURCIA', 'en', 'noviembre', 'No', 'quiero', 'ir', 'de', 'Kousei', 'sola', 'RT', 'pls', 'https://t.co/hd3o4xOqGH']\n"
     ]
    }
   ],
   "source": [
    "from nltk.tokenize import TweetTokenizer\n",
    "tknzr = TweetTokenizer()\n",
    "\n",
    "for tw in tweets:\n",
    "    print(tknzr.tokenize(tw))"
   ]
  },
  {
   "cell_type": "code",
   "execution_count": 23,
   "metadata": {},
   "outputs": [
    {
     "name": "stdout",
     "output_type": "stream",
     "text": [
      "['nominada', 'por', 'aquí', 'van', 'nuestras', 'pelis', 'y', 'nuestros', 'taggeados', '.']\n",
      "['ahora', 'tengo', 'un', 'dilema', '.', 'ayúdame', 'toni', 'y', 'en', '3ds', 'porque', 'me', 'salió', 'a', '25', 'euros', 'nuevo']\n",
      "['pocas', 'maneras', 'mejores', 'se', 'me', 'ocurren', 'para', 'empezar', 'una', 'semana', '..']\n",
      "['hoy', 'microaventura', 'en', 'con', 'dos', 'expertos', 'kayakistas', 'ría', 'de', 'villaviciosa', '.', '@', 'el', 'puntal', '…']\n",
      "['quiero', 'esta', 'figura', 'de', 'madison', 'ojalá', 'que', 'la', 'próxima', 'en', 'salir', 'sea', 'alicia']\n",
      "['que', 'te', 'echo', 'de', 'menos', 'cosa', 'chicaa', '!']\n",
      "['vale', ',', 'pero', 'creo', 'que', 'tendre', 'un', 'pequeño', 'problema', 'no', 'se', 'si', 'podre', 'tener', 'las', 'llaves', 'el', 'piso', 'para', 'las', 'fotos']\n",
      "['no', 'dobles', 'las', 'esquinas', '!', '😱', '😱', 'pon', 'post-its', '!', ',', 'se', 'queda', 'más', 'cuqui']\n",
      "['mi', 'espalda', 'esta', 'bien', 'chicos', 'no', 'os', 'preocupeis', 'p', 'espero', 'que', 'el', 'juicio', 'sea', 'lento', 'y', 'me', 'libre', 'de', 'la', 'carcel']\n",
      "['se', 'busca', 'kaori', 'para', 'el', 'sábado', 'del', 'salón', 'de', 'murcia', 'en', 'noviembre', 'no', 'quiero', 'ir', 'de', 'kousei', 'sola', 'rt', 'pls']\n"
     ]
    }
   ],
   "source": [
    "import re\n",
    "\n",
    "tokenizer = TweetTokenizer(preserve_case=False, reduce_len=True, strip_handles=True)\n",
    "\n",
    "def mytokenize(text, remove_hashtags=True):\n",
    "    tokens = tokenizer.tokenize(text)\n",
    "    \n",
    "    tokens = [tk for tk in tokens if tk[0] != \"#\"]\n",
    "    tokens = [tk for tk in tokens if not tk.startswith(\"http\")]\n",
    "    tokens = [re.sub(r'(.)\\1\\1+', r'\\1\\1', tk) for tk in tokens]\n",
    "    return tokens\n",
    "\n",
    "\n",
    "for tw in tweets:\n",
    "    print(mytokenize(tw))"
   ]
  },
  {
   "cell_type": "code",
   "execution_count": 24,
   "metadata": {},
   "outputs": [
    {
     "name": "stdout",
     "output_type": "stream",
     "text": [
      "Sentiment P:\n",
      "  Precision: 58.45% (436/746)\n",
      "  Recall: 67.91% (436/642)\n",
      "  F1: 62.82%\n",
      "Sentiment N:\n",
      "  Precision: 61.55% (421/684)\n",
      "  Recall: 54.89% (421/767)\n",
      "  F1: 58.03%\n",
      "Sentiment NEU:\n",
      "  Precision: 15.56% (21/135)\n",
      "  Recall: 9.72% (21/216)\n",
      "  F1: 11.97%\n",
      "Sentiment NONE:\n",
      "  Precision: 25.45% (85/334)\n",
      "  Recall: 31.02% (85/274)\n",
      "  F1: 27.96%\n",
      "Accuracy: 50.71% (963/1899)\n",
      "Macro-Precision: 40.25%\n",
      "Macro-Recall: 40.89%\n",
      "Macro-F1: 40.57%\n",
      "\tP\tN\tNEU\tNONE\n",
      "P\t436\t100\t27\t79\t\n",
      "N\t152\t421\t70\t124\t\n",
      "NEU\t68\t81\t21\t46\t\n",
      "NONE\t90\t82\t17\t85\t\n"
     ]
    }
   ],
   "source": [
    "from nltk.tokenize import TweetTokenizer\n",
    "\n",
    "\n",
    "model = Pipeline([\n",
    "    ('vect', CountVectorizer(tokenizer=mytokenize)),\n",
    "    ('clf', clf_class()),\n",
    "])\n",
    "\n",
    "model.fit(X, y)\n",
    "\n",
    "y_pred = model.predict(X_cv)\n",
    "        \n",
    "print_evaluation(model, y_cv, y_pred)"
   ]
  },
  {
   "cell_type": "markdown",
   "metadata": {},
   "source": [
    "Empeoró. Qué botonazo"
   ]
  },
  {
   "cell_type": "markdown",
   "metadata": {},
   "source": [
    "## ¿Usándolo binario también?"
   ]
  },
  {
   "cell_type": "code",
   "execution_count": 27,
   "metadata": {},
   "outputs": [
    {
     "name": "stdout",
     "output_type": "stream",
     "text": [
      "Sentiment P:\n",
      "  Precision: 56.90% (441/775)\n",
      "  Recall: 68.69% (441/642)\n",
      "  F1: 62.24%\n",
      "Sentiment N:\n",
      "  Precision: 62.61% (442/706)\n",
      "  Recall: 57.63% (442/767)\n",
      "  F1: 60.01%\n",
      "Sentiment NEU:\n",
      "  Precision: 15.50% (20/129)\n",
      "  Recall: 9.26% (20/216)\n",
      "  F1: 11.59%\n",
      "Sentiment NONE:\n",
      "  Precision: 27.68% (80/289)\n",
      "  Recall: 29.20% (80/274)\n",
      "  F1: 28.42%\n",
      "Accuracy: 51.76% (983/1899)\n",
      "Macro-Precision: 40.67%\n",
      "Macro-Recall: 41.19%\n",
      "Macro-F1: 40.93%\n",
      "\tP\tN\tNEU\tNONE\n",
      "P\t441\t99\t31\t71\t\n",
      "N\t161\t442\t63\t101\t\n",
      "NEU\t74\t85\t20\t37\t\n",
      "NONE\t99\t80\t15\t80\t\n"
     ]
    }
   ],
   "source": [
    "from nltk.tokenize import TweetTokenizer\n",
    "from nltk.corpus import stopwords\n",
    "\n",
    "model = Pipeline([\n",
    "    ('vect', CountVectorizer(tokenizer=TweetTokenizer().tokenize, binary=True)),\n",
    "    ('clf', clf_class()),\n",
    "])\n",
    "\n",
    "model.fit(X, y)\n",
    "\n",
    "y_pred = model.predict(X_cv)\n",
    "        \n",
    "print_evaluation(model, y_cv, y_pred)"
   ]
  },
  {
   "cell_type": "code",
   "execution_count": 28,
   "metadata": {},
   "outputs": [
    {
     "name": "stdout",
     "output_type": "stream",
     "text": [
      "Sentiment P:\n",
      "  Precision: 58.09% (445/766)\n",
      "  Recall: 69.31% (445/642)\n",
      "  F1: 63.21%\n",
      "Sentiment N:\n",
      "  Precision: 63.28% (424/670)\n",
      "  Recall: 55.28% (424/767)\n",
      "  F1: 59.01%\n",
      "Sentiment NEU:\n",
      "  Precision: 12.68% (18/142)\n",
      "  Recall: 8.33% (18/216)\n",
      "  F1: 10.06%\n",
      "Sentiment NONE:\n",
      "  Precision: 27.73% (89/321)\n",
      "  Recall: 32.48% (89/274)\n",
      "  F1: 29.92%\n",
      "Accuracy: 51.40% (976/1899)\n",
      "Macro-Precision: 40.44%\n",
      "Macro-Recall: 41.35%\n",
      "Macro-F1: 40.89%\n",
      "\tP\tN\tNEU\tNONE\n",
      "P\t445\t93\t30\t74\t\n",
      "N\t154\t424\t73\t116\t\n",
      "NEU\t76\t80\t18\t42\t\n",
      "NONE\t91\t73\t21\t89\t\n"
     ]
    }
   ],
   "source": [
    "from nltk.tokenize import TweetTokenizer\n",
    "\n",
    "\n",
    "model = Pipeline([\n",
    "    ('vect', CountVectorizer(tokenizer=mytokenize, binary=True)),\n",
    "    ('clf', clf_class()),\n",
    "])\n",
    "\n",
    "model.fit(X, y)\n",
    "\n",
    "y_pred = model.predict(X_cv)\n",
    "        \n",
    "print_evaluation(model, y_cv, y_pred)"
   ]
  },
  {
   "cell_type": "markdown",
   "metadata": {},
   "source": [
    "# PCA"
   ]
  },
  {
   "cell_type": "code",
   "execution_count": 39,
   "metadata": {},
   "outputs": [
    {
     "data": {
      "text/plain": [
       "<8227x24439 sparse matrix of type '<class 'numpy.int64'>'\n",
       "\twith 138496 stored elements in Compressed Sparse Row format>"
      ]
     },
     "execution_count": 39,
     "metadata": {},
     "output_type": "execute_result"
    }
   ],
   "source": [
    "CountVectorizer(tokenizer=TweetTokenizer().tokenize).fit_transform(X, y)"
   ]
  },
  {
   "cell_type": "code",
   "execution_count": 40,
   "metadata": {},
   "outputs": [
    {
     "name": "stdout",
     "output_type": "stream",
     "text": [
      "Sentiment P:\n",
      "  Precision: 57.10% (426/746)\n",
      "  Recall: 66.36% (426/642)\n",
      "  F1: 61.38%\n",
      "Sentiment N:\n",
      "  Precision: 60.13% (457/760)\n",
      "  Recall: 59.58% (457/767)\n",
      "  F1: 59.86%\n",
      "Sentiment NEU:\n",
      "  Precision: 13.82% (17/123)\n",
      "  Recall: 7.87% (17/216)\n",
      "  F1: 10.03%\n",
      "Sentiment NONE:\n",
      "  Precision: 24.07% (65/270)\n",
      "  Recall: 23.72% (65/274)\n",
      "  F1: 23.90%\n",
      "Accuracy: 50.82% (965/1899)\n",
      "Macro-Precision: 38.78%\n",
      "Macro-Recall: 39.38%\n",
      "Macro-F1: 39.08%\n",
      "\tP\tN\tNEU\tNONE\n",
      "P\t426\t112\t35\t69\t\n",
      "N\t154\t457\t55\t101\t\n",
      "NEU\t76\t88\t17\t35\t\n",
      "NONE\t90\t103\t16\t65\t\n"
     ]
    }
   ],
   "source": [
    "from sklearn.decomposition import TruncatedSVD\n",
    "from nltk.tokenize import TweetTokenizer\n",
    "\n",
    "\n",
    "model = Pipeline([\n",
    "    ('vect', CountVectorizer(tokenizer=TweetTokenizer().tokenize)),\n",
    "    ('pca', TruncatedSVD(n_components=3000)),\n",
    "    ('clf', clf_class()),\n",
    "])\n",
    "\n",
    "model.fit(X, y)\n",
    "\n",
    "y_pred = model.predict(X_cv)\n",
    "        \n",
    "print_evaluation(model, y_cv, y_pred)"
   ]
  },
  {
   "cell_type": "code",
   "execution_count": null,
   "metadata": {},
   "outputs": [],
   "source": []
  }
 ],
 "metadata": {
  "kernelspec": {
   "display_name": "Python 3",
   "language": "python",
   "name": "python3"
  },
  "language_info": {
   "codemirror_mode": {
    "name": "ipython",
    "version": 3
   },
   "file_extension": ".py",
   "mimetype": "text/x-python",
   "name": "python",
   "nbconvert_exporter": "python",
   "pygments_lexer": "ipython3",
   "version": "3.6.4"
  }
 },
 "nbformat": 4,
 "nbformat_minor": 2
}
