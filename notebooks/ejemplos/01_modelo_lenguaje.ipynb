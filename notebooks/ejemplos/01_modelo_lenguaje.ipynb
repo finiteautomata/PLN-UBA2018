{
 "cells": [
  {
   "cell_type": "markdown",
   "metadata": {},
   "source": [
    "# Contando N-Gramas"
   ]
  },
  {
   "cell_type": "code",
   "execution_count": 2,
   "metadata": {},
   "outputs": [],
   "source": [
    "from nltk.corpus import gutenberg\n",
    "sents = list(gutenberg.sents('austen-emma.txt'))"
   ]
  },
  {
   "cell_type": "markdown",
   "metadata": {},
   "source": [
    "Primero vemos cómo imprimir todos los trigramas de una sola oración:"
   ]
  },
  {
   "cell_type": "code",
   "execution_count": 3,
   "metadata": {},
   "outputs": [
    {
     "name": "stdout",
     "output_type": "stream",
     "text": [
      "['[', 'Emma', 'by']\n",
      "['Emma', 'by', 'Jane']\n",
      "['by', 'Jane', 'Austen']\n",
      "['Jane', 'Austen', '1816']\n",
      "['Austen', '1816', ']']\n"
     ]
    }
   ],
   "source": [
    "sent = sents[0]\n",
    "\n",
    "n = 3  # trigramas\n",
    "for i in range(len(sent) - n + 1):\n",
    "    print(sent[i:i+n])"
   ]
  },
  {
   "cell_type": "markdown",
   "metadata": {},
   "source": [
    "Ahora veamos cómo contar los trigramas de todas las oraciones:"
   ]
  },
  {
   "cell_type": "code",
   "execution_count": 4,
   "metadata": {},
   "outputs": [],
   "source": [
    "from collections import defaultdict\n",
    "\n",
    "count = defaultdict(int)\n",
    "\n",
    "for sent in sents:\n",
    "    for i in range(len(sent) - n + 1):\n",
    "        ngram = tuple(sent[i:i+n])  # los diccionarios no pueden guardar listas, pero sí tuplas\n",
    "        count[ngram] += 1"
   ]
  },
  {
   "cell_type": "code",
   "execution_count": 5,
   "metadata": {},
   "outputs": [
    {
     "data": {
      "text/plain": [
       "[['Hay', 'que', 'dejar', 'de', 'robar', 'por', 'dos', 'años', '.'],\n",
       " ['Estamos', 'bien', 'los', '33']]"
      ]
     },
     "execution_count": 5,
     "metadata": {},
     "output_type": "execute_result"
    }
   ],
   "source": [
    "from nltk.tokenize import sent_tokenize, word_tokenize\n",
    "\n",
    "\n",
    "def split_and_tokenize(text):\n",
    "    tokens = []\n",
    "    for sent in sent_tokenize(text):\n",
    "        tokens.append(word_tokenize(sent))\n",
    "    return tokens\n",
    "\n",
    "\n",
    "split_and_tokenize(\"Hay que dejar de robar por dos años. Estamos bien los 33\")"
   ]
  },
  {
   "cell_type": "code",
   "execution_count": 26,
   "metadata": {},
   "outputs": [
    {
     "name": "stdout",
     "output_type": "stream",
     "text": [
      "[['Sí', 'se', 'puede', '!'], ['Sí', 'se', 'puede', '!']]\n"
     ]
    },
    {
     "data": {
      "text/plain": [
       "14"
      ]
     },
     "execution_count": 26,
     "metadata": {},
     "output_type": "execute_result"
    }
   ],
   "source": [
    "def _generate_n_grams_for_sentence(sentence, n):\n",
    "    ngrams = []\n",
    "    \n",
    "    \"\"\"\n",
    "    Los n-1 primeros tokens tengo que rellenarlos \n",
    "    \"\"\"\n",
    "    m = len(sentence)\n",
    "    \n",
    "    for i in range(min(n-1, m)):\n",
    "        ngram = ['<s>'] * (n-(i+1)) + sentence[0:i+1]\n",
    "        ngrams.append(ngram)\n",
    "        \n",
    "    for i in range(n-2, m-n+1):\n",
    "        ngrams.append(sentence[i:i+n])\n",
    "    \n",
    "    for i in range(m-n+1, m):\n",
    "        ngram = sentence[i:m] + ['</s>'] * (n - (m-i))\n",
    "        ngrams.append(ngram)\n",
    "        \n",
    "    return ngrams\n",
    "        \n",
    "def generate_ngrams(sents, n):\n",
    "    \"\"\"\n",
    "    Generar n-gramas a partir de las sentencias\n",
    "    \"\"\"\n",
    "    ngrams = []\n",
    "    \n",
    "    for sent in sents:\n",
    "        ngrams += _generate_n_grams_for_sentence(sent, n)\n",
    "    return ngrams\n",
    "\n",
    "texto = \"Sí se puede! Sí se puede!\"\n",
    "sents = split_and_tokenize(texto)\n",
    "#['<s>'] * 10\n",
    "print(sents)\n",
    "len(generate_ngrams(sents, 0))"
   ]
  },
  {
   "cell_type": "code",
   "execution_count": 15,
   "metadata": {},
   "outputs": [],
   "source": [
    "texto = \"El Bajo porteño ha sido protagonista de constantes cambios a lo largo de la historia\\\n",
    " y parece que en los próximos años las obras continuarán. Polémicos traslados de estatuas, reacomodo\\\n",
    " de calles, estacionamientos, nuevos edificios y enrejado son algunas de las modificaciones que realizaron\\\n",
    " los distintos gobiernos desde 1937, cuando toda el área era de acceso público.\"\n",
    "\n",
    "sents = split_and_tokenize(texto)\n",
    "ngrams = generate_ngrams(sents, 2)"
   ]
  },
  {
   "cell_type": "code",
   "execution_count": 16,
   "metadata": {},
   "outputs": [
    {
     "data": {
      "text/plain": [
       "defaultdict(int,\n",
       "            {(',', 'cuando'): 1,\n",
       "             (',', 'estacionamientos'): 1,\n",
       "             (',', 'nuevos'): 1,\n",
       "             (',', 'reacomodo'): 1,\n",
       "             ('1937', ','): 1,\n",
       "             ('<s>', 'El'): 1,\n",
       "             ('<s>', 'Polémicos'): 1,\n",
       "             ('Bajo', 'porteño'): 1,\n",
       "             ('El', 'Bajo'): 1,\n",
       "             ('Polémicos', 'traslados'): 1,\n",
       "             ('a', 'lo'): 1,\n",
       "             ('acceso', 'público'): 1,\n",
       "             ('algunas', 'de'): 1,\n",
       "             ('años', 'las'): 1,\n",
       "             ('calles', ','): 1,\n",
       "             ('cambios', 'a'): 1,\n",
       "             ('constantes', 'cambios'): 1,\n",
       "             ('continuarán', '.'): 1,\n",
       "             ('cuando', 'toda'): 1,\n",
       "             ('de', 'acceso'): 1,\n",
       "             ('de', 'calles'): 1,\n",
       "             ('de', 'constantes'): 1,\n",
       "             ('de', 'estatuas'): 1,\n",
       "             ('de', 'la'): 1,\n",
       "             ('de', 'las'): 1,\n",
       "             ('desde', '1937'): 1,\n",
       "             ('distintos', 'gobiernos'): 1,\n",
       "             ('edificios', 'y'): 1,\n",
       "             ('el', 'área'): 1,\n",
       "             ('en', 'los'): 1,\n",
       "             ('enrejado', 'son'): 1,\n",
       "             ('era', 'de'): 1,\n",
       "             ('estacionamientos', ','): 1,\n",
       "             ('estatuas', ','): 1,\n",
       "             ('gobiernos', 'desde'): 1,\n",
       "             ('ha', 'sido'): 1,\n",
       "             ('historia', 'y'): 1,\n",
       "             ('la', 'historia'): 1,\n",
       "             ('largo', 'de'): 1,\n",
       "             ('las', 'modificaciones'): 1,\n",
       "             ('las', 'obras'): 1,\n",
       "             ('lo', 'largo'): 1,\n",
       "             ('los', 'distintos'): 1,\n",
       "             ('los', 'próximos'): 1,\n",
       "             ('modificaciones', 'que'): 1,\n",
       "             ('nuevos', 'edificios'): 1,\n",
       "             ('obras', 'continuarán'): 1,\n",
       "             ('parece', 'que'): 1,\n",
       "             ('porteño', 'ha'): 1,\n",
       "             ('protagonista', 'de'): 1,\n",
       "             ('próximos', 'años'): 1,\n",
       "             ('público', '.'): 1,\n",
       "             ('que', 'en'): 1,\n",
       "             ('que', 'realizaron'): 1,\n",
       "             ('reacomodo', 'de'): 1,\n",
       "             ('realizaron', 'los'): 1,\n",
       "             ('sido', 'protagonista'): 1,\n",
       "             ('son', 'algunas'): 1,\n",
       "             ('toda', 'el'): 1,\n",
       "             ('traslados', 'de'): 1,\n",
       "             ('y', 'enrejado'): 1,\n",
       "             ('y', 'parece'): 1,\n",
       "             ('área', 'era'): 1})"
      ]
     },
     "execution_count": 16,
     "metadata": {},
     "output_type": "execute_result"
    }
   ],
   "source": [
    "count = defaultdict(int)\n",
    "\n",
    "for ngram in ngrams:\n",
    "    count[tuple(ngram)] += 1\n",
    "    \n",
    "count"
   ]
  },
  {
   "cell_type": "markdown",
   "metadata": {},
   "source": [
    "El código sirve para n-gramas en general.\n",
    "\n",
    "Tareas pendientes:\n",
    "- Agregar marcadores de principio y final de oración\n",
    "- Contar n-gramas y (n-1)-gramas al mismo tiempo."
   ]
  },
  {
   "cell_type": "markdown",
   "metadata": {},
   "source": [
    "# Generando Lenguaje Natural\n",
    "\n",
    "El siguiente modelo de bigramas se aprende a partir de dos oraciones:\n",
    "- \"el gato come pescado\"\n",
    "- \"la gata come salmón\"\n"
   ]
  },
  {
   "cell_type": "code",
   "execution_count": 78,
   "metadata": {},
   "outputs": [
    {
     "data": {
      "text/plain": [
       "[('la', 0.5), ('el', 0.5)]"
      ]
     },
     "execution_count": 78,
     "metadata": {},
     "output_type": "execute_result"
    }
   ],
   "source": [
    "probs = {\n",
    "    '<s>': {'el': 0.5, 'la': 0.5},\n",
    "    # '<s>': {'el': 0.6, 'la': 0.2, 'los': 0.1, 'las': 0.1},\n",
    "    'el': {'gato': 1.0},\n",
    "    'gato': {'come': 1.0},\n",
    "    'come': {'pescado': 0.5, 'salmón': 0.5},\n",
    "    'pescado': {'.': 1.0},\n",
    "    '.': {'</s>': 1.0},\n",
    "    'la': {'gata': 1.0},\n",
    "    'gata': {'come': 1.0},\n",
    "    'salmón': {'.': 1.0},\n",
    "}\n",
    "\n",
    "list(probs['<s>'].items())  # convertir un diccionario a lista de pares"
   ]
  },
  {
   "cell_type": "markdown",
   "metadata": {},
   "source": [
    "Cada entrada del diccionario contiene una distribución discreta finita para la palabra siguiente dada la palabra anterior. Samplear de una distribución discreta finita es tan fácil como samplear un número al azar entre 0 y 1 y ver en qué región cae (ver [Wikipedia](https://en.wikipedia.org/wiki/Pseudo-random_number_sampling#Finite_discrete_distributions)).\n",
    "\n",
    "Empezamos sampleando la primer palabra:"
   ]
  },
  {
   "cell_type": "code",
   "execution_count": 88,
   "metadata": {},
   "outputs": [
    {
     "data": {
      "text/plain": [
       "'la'"
      ]
     },
     "execution_count": 88,
     "metadata": {},
     "output_type": "execute_result"
    }
   ],
   "source": [
    "from random import random\n",
    "\n",
    "def sample(problist):\n",
    "    r = random()  # entre 0 y 1\n",
    "    i = 0\n",
    "    word, prob = problist[0]\n",
    "    acum = prob\n",
    "    while r > acum:\n",
    "        i += 1\n",
    "        word, prob = problist[i]\n",
    "        acum += prob\n",
    "    \n",
    "    return word\n",
    "\n",
    "sample(list(probs['<s>'].items()))"
   ]
  },
  {
   "cell_type": "markdown",
   "metadata": {},
   "source": [
    "Podemos ver que el resultado del sampleo se corresponde con las probabilidades:"
   ]
  },
  {
   "cell_type": "code",
   "execution_count": 90,
   "metadata": {},
   "outputs": [
    {
     "name": "stdout",
     "output_type": "stream",
     "text": [
      "Counter({'el': 505, 'la': 495})\n"
     ]
    }
   ],
   "source": [
    "results = [sample(list(probs['<s>'].items())) for i in range(1000)]\n",
    "\n",
    "from collections import Counter\n",
    "print(Counter(results))"
   ]
  },
  {
   "cell_type": "markdown",
   "metadata": {},
   "source": [
    "**Observaciones:**\n",
    "- Si se ordena la lista de probabilidades de mayor a menor, el sampling es más rápido.\n",
    "- El sampling también se puede hacer usando [random.choices](https://docs.python.org/3/library/random.html#random.choices) de python\n",
    "ó [random.choice](https://stackoverflow.com/questions/11373192/generating-discrete-random-variables-with-specified-weights-using-scipy-or-numpy) de numpy.\n",
    "\n",
    "Ahora veamos cómo samplear una oración completa:"
   ]
  },
  {
   "cell_type": "code",
   "execution_count": 112,
   "metadata": {},
   "outputs": [
    {
     "name": "stdout",
     "output_type": "stream",
     "text": [
      "la\n",
      "gata\n",
      "come\n",
      "pescado\n",
      ".\n",
      "</s>\n"
     ]
    }
   ],
   "source": [
    "word = '<s>'\n",
    "while word != '</s>':\n",
    "    problist = list(probs[word].items())\n",
    "    word = sample(problist)\n",
    "    print(word)"
   ]
  },
  {
   "cell_type": "markdown",
   "metadata": {},
   "source": [
    "Acá se ve que se pueden generar oraciones nuevas (no vistas en tiempo de entrenamiento).\n",
    "\n",
    "Tareas pendientes:\n",
    "- adaptar el código a n-gramas en general: usar tuplas como claves en probs!\n",
    "- precalcular las listas ordenadas de mayor a menor (ver sorted_prob en los tests)"
   ]
  }
 ],
 "metadata": {
  "kernelspec": {
   "display_name": "Python 3",
   "language": "python",
   "name": "python3"
  },
  "language_info": {
   "codemirror_mode": {
    "name": "ipython",
    "version": 3
   },
   "file_extension": ".py",
   "mimetype": "text/x-python",
   "name": "python",
   "nbconvert_exporter": "python",
   "pygments_lexer": "ipython3",
   "version": "3.6.4"
  }
 },
 "nbformat": 4,
 "nbformat_minor": 2
}
